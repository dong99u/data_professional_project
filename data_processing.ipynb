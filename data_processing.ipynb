{
 "cells": [
  {
   "cell_type": "code",
   "execution_count": 2,
   "metadata": {},
   "outputs": [],
   "source": [
    "import pandas as pd\n",
    "import numpy as np\n",
    "import matplotlib.pyplot as plt\n",
    "import seaborn as sns\n"
   ]
  },
  {
   "cell_type": "code",
   "execution_count": 3,
   "metadata": {},
   "outputs": [],
   "source": [
    "df = pd.read_csv('movie_reviews.csv')"
   ]
  },
  {
   "cell_type": "code",
   "execution_count": 4,
   "metadata": {},
   "outputs": [
    {
     "data": {
      "text/html": [
       "<div>\n",
       "<style scoped>\n",
       "    .dataframe tbody tr th:only-of-type {\n",
       "        vertical-align: middle;\n",
       "    }\n",
       "\n",
       "    .dataframe tbody tr th {\n",
       "        vertical-align: top;\n",
       "    }\n",
       "\n",
       "    .dataframe thead th {\n",
       "        text-align: right;\n",
       "    }\n",
       "</style>\n",
       "<table border=\"1\" class=\"dataframe\">\n",
       "  <thead>\n",
       "    <tr style=\"text-align: right;\">\n",
       "      <th></th>\n",
       "      <th>title</th>\n",
       "      <th>score</th>\n",
       "      <th>comment</th>\n",
       "      <th>user_id</th>\n",
       "      <th>date</th>\n",
       "    </tr>\n",
       "  </thead>\n",
       "  <tbody>\n",
       "    <tr>\n",
       "      <th>0</th>\n",
       "      <td>탑건: 매버릭</td>\n",
       "      <td>10</td>\n",
       "      <td>평점 잘 안주는데 만점 줄려고 왔다</td>\n",
       "      <td>팝쟁이(rhkd****)</td>\n",
       "      <td>2022.06.22 09:46</td>\n",
       "    </tr>\n",
       "    <tr>\n",
       "      <th>1</th>\n",
       "      <td>탑건: 매버릭</td>\n",
       "      <td>10</td>\n",
       "      <td>영화관이 필요한 이유</td>\n",
       "      <td>우우훗(jong****)</td>\n",
       "      <td>2022.06.22 11:14</td>\n",
       "    </tr>\n",
       "    <tr>\n",
       "      <th>2</th>\n",
       "      <td>탑건: 매버릭</td>\n",
       "      <td>10</td>\n",
       "      <td>중국 애들은 불쌍타 나라 잘못 만나서 이런 영화를 극장에서 못보다니 ㅋㅋ</td>\n",
       "      <td>우다닷(real****)</td>\n",
       "      <td>2022.06.22 12:05</td>\n",
       "    </tr>\n",
       "    <tr>\n",
       "      <th>3</th>\n",
       "      <td>탑건: 매버릭</td>\n",
       "      <td>10</td>\n",
       "      <td>감동의눈물 나올정도입니다. 평점10점급임.  내가 전투기 탄 기분이였음</td>\n",
       "      <td>허니잼(jong****)</td>\n",
       "      <td>2022.06.22 11:23</td>\n",
       "    </tr>\n",
       "    <tr>\n",
       "      <th>4</th>\n",
       "      <td>탑건: 매버릭</td>\n",
       "      <td>10</td>\n",
       "      <td>이 시대의 마지막 액션스타, \"톰 크루즈\"</td>\n",
       "      <td>jydp****</td>\n",
       "      <td>2022.06.22 09:42</td>\n",
       "    </tr>\n",
       "    <tr>\n",
       "      <th>...</th>\n",
       "      <td>...</td>\n",
       "      <td>...</td>\n",
       "      <td>...</td>\n",
       "      <td>...</td>\n",
       "      <td>...</td>\n",
       "    </tr>\n",
       "    <tr>\n",
       "      <th>916163</th>\n",
       "      <td>십계</td>\n",
       "      <td>1</td>\n",
       "      <td>...ㅍ ... 판타지의 시작</td>\n",
       "      <td>카영삼(sewo****)</td>\n",
       "      <td>2015.09.01 05:49</td>\n",
       "    </tr>\n",
       "    <tr>\n",
       "      <th>916164</th>\n",
       "      <td>십계</td>\n",
       "      <td>1</td>\n",
       "      <td>근데 이걸 만약 커플이 DVD방에서 본다면... 최악의 작품으로 변하겠네요...</td>\n",
       "      <td>lows****</td>\n",
       "      <td>2015.11.23 00:59</td>\n",
       "    </tr>\n",
       "    <tr>\n",
       "      <th>916165</th>\n",
       "      <td>십계</td>\n",
       "      <td>1</td>\n",
       "      <td>존나ㅋ 옛날영화ㅋㅋㅋ</td>\n",
       "      <td>kdwy****</td>\n",
       "      <td>2014.12.25 11:53</td>\n",
       "    </tr>\n",
       "    <tr>\n",
       "      <th>916166</th>\n",
       "      <td>십계</td>\n",
       "      <td>1</td>\n",
       "      <td>댓글 개독들 신났네..ㅋ</td>\n",
       "      <td>위리(0811****)</td>\n",
       "      <td>2018.07.15 15:04</td>\n",
       "    </tr>\n",
       "    <tr>\n",
       "      <th>916167</th>\n",
       "      <td>십계</td>\n",
       "      <td>1</td>\n",
       "      <td>별한개도 아까운 허무맹랑 야훼 외국귀신영화</td>\n",
       "      <td>ccc5****</td>\n",
       "      <td>2014.12.25 03:13</td>\n",
       "    </tr>\n",
       "  </tbody>\n",
       "</table>\n",
       "<p>916168 rows × 5 columns</p>\n",
       "</div>"
      ],
      "text/plain": [
       "          title  score                                       comment  \\\n",
       "0       탑건: 매버릭     10                           평점 잘 안주는데 만점 줄려고 왔다   \n",
       "1       탑건: 매버릭     10                                   영화관이 필요한 이유   \n",
       "2       탑건: 매버릭     10      중국 애들은 불쌍타 나라 잘못 만나서 이런 영화를 극장에서 못보다니 ㅋㅋ   \n",
       "3       탑건: 매버릭     10       감동의눈물 나올정도입니다. 평점10점급임.  내가 전투기 탄 기분이였음   \n",
       "4       탑건: 매버릭     10                       이 시대의 마지막 액션스타, \"톰 크루즈\"   \n",
       "...         ...    ...                                           ...   \n",
       "916163       십계      1                              ...ㅍ ... 판타지의 시작   \n",
       "916164       십계      1  근데 이걸 만약 커플이 DVD방에서 본다면... 최악의 작품으로 변하겠네요...   \n",
       "916165       십계      1                                   존나ㅋ 옛날영화ㅋㅋㅋ   \n",
       "916166       십계      1                                 댓글 개독들 신났네..ㅋ   \n",
       "916167       십계      1                       별한개도 아까운 허무맹랑 야훼 외국귀신영화   \n",
       "\n",
       "              user_id              date  \n",
       "0       팝쟁이(rhkd****)  2022.06.22 09:46  \n",
       "1       우우훗(jong****)  2022.06.22 11:14  \n",
       "2       우다닷(real****)  2022.06.22 12:05  \n",
       "3       허니잼(jong****)  2022.06.22 11:23  \n",
       "4            jydp****  2022.06.22 09:42  \n",
       "...               ...               ...  \n",
       "916163  카영삼(sewo****)  2015.09.01 05:49  \n",
       "916164       lows****  2015.11.23 00:59  \n",
       "916165       kdwy****  2014.12.25 11:53  \n",
       "916166   위리(0811****)  2018.07.15 15:04  \n",
       "916167       ccc5****  2014.12.25 03:13  \n",
       "\n",
       "[916168 rows x 5 columns]"
      ]
     },
     "execution_count": 4,
     "metadata": {},
     "output_type": "execute_result"
    }
   ],
   "source": [
    "df"
   ]
  },
  {
   "cell_type": "code",
   "execution_count": 5,
   "metadata": {},
   "outputs": [
    {
     "data": {
      "text/plain": [
       "탑건: 매버릭                 3000\n",
       "러빙 빈센트                  3000\n",
       "인크레더블                   3000\n",
       "님아, 그 강을 건너지 마오         3000\n",
       "인셉션                     3000\n",
       "                        ... \n",
       "사이버 지옥: N번방을 무너뜨려라       301\n",
       "쓰리 세컨즈                   300\n",
       "하이 스피드! –프리! 스타팅 데이즈     298\n",
       "우뢰매                      295\n",
       "태양은 가득히                  289\n",
       "Name: title, Length: 496, dtype: int64"
      ]
     },
     "execution_count": 5,
     "metadata": {},
     "output_type": "execute_result"
    }
   ],
   "source": [
    "df['title'].value_counts()"
   ]
  },
  {
   "cell_type": "code",
   "execution_count": 9,
   "metadata": {},
   "outputs": [
    {
     "data": {
      "text/plain": [
       "title  score  comment                                                                user_id                    date            \n",
       "올드보이   10     내 생애 최고의 영화 연출자의 의도와 연기자들의 연기력까지 궁합이 딱...이런 영화를 만든 나라에 태어난게 자랑스러울정도..  접사(lysa****)               2022.01.14 19:59    2\n",
       "       9      복수가 끝나면 그 다음은 어떻게 될까                                                   simc****                   2015.12.26 00:53    2\n",
       "       10     와 최고!                                                                  rlag****                   2010.07.08 09:36    1\n",
       "              와 오진다 ... 대단하다                                                         방끝(h104****)               2018.08.06 16:10    1\n",
       "              와 이건 진짜 미쳤다..                                                          g호(ake9****)               2022.04.17 12:20    1\n",
       "                                                                                                                                   ..\n",
       "              내가 최면에 걸린 것 같다                                                         kcy4****                   2018.10.23 22:24    1\n",
       "              내가 평가할 자격이 없다                                                          도우(2000****)               2019.08.13 22:22    1\n",
       "              내가본 최고의 한국영화                                                           ccaa****                   2011.01.05 18:26    1\n",
       "              내가본 한국영화중 최고임                                                          준티(pk92****)               2017.12.03 10:43    1\n",
       "              희대의 띵작!!!!.                                                            T7dhoojgdwqshok(doda****)  2021.12.09 23:17    1\n",
       "Length: 2888, dtype: int64"
      ]
     },
     "execution_count": 9,
     "metadata": {},
     "output_type": "execute_result"
    }
   ],
   "source": [
    "df"
   ]
  },
  {
   "cell_type": "code",
   "execution_count": null,
   "metadata": {},
   "outputs": [],
   "source": []
  }
 ],
 "metadata": {
  "kernelspec": {
   "display_name": "Python 3.9.13 64-bit",
   "language": "python",
   "name": "python3"
  },
  "language_info": {
   "codemirror_mode": {
    "name": "ipython",
    "version": 3
   },
   "file_extension": ".py",
   "mimetype": "text/x-python",
   "name": "python",
   "nbconvert_exporter": "python",
   "pygments_lexer": "ipython3",
   "version": "3.9.13"
  },
  "orig_nbformat": 4,
  "vscode": {
   "interpreter": {
    "hash": "cccb2397a5432f8077b95051289c3bd6d9c4ee63d4fe9783a6acfbb85fd3e6ac"
   }
  }
 },
 "nbformat": 4,
 "nbformat_minor": 2
}
